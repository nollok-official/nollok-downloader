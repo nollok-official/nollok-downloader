{
 "cells": [
  {
   "cell_type": "code",
   "execution_count": 3,
   "metadata": {},
   "outputs": [],
   "source": [
    "import streamlit as st\n",
    "import requests\n",
    "from woocommerce import API\n",
    "import zipfile\n",
    "import os\n",
    "from PIL import Image\n",
    "from io import BytesIO\n",
    "import dotenv\n",
    "\n",
    "# Load environment variables from .env file\n",
    "dotenv.load_dotenv()\n",
    "\n",
    "# Access environment variables\n",
    "WC_API_URL = os.environ.get('WC_API_URL')\n",
    "WC_CONSUMER_KEY = os.environ.get('WC_CONSUMER_KEY')\n",
    "WC_CONSUMER_SECRET = os.environ.get('WC_CONSUMER_SECRET')"
   ]
  },
  {
   "cell_type": "code",
   "execution_count": 4,
   "metadata": {},
   "outputs": [],
   "source": [
    "# Initialize the WooCommerce API\n",
    "wcapi = API(\n",
    "    url=WC_API_URL,\n",
    "    consumer_key=WC_CONSUMER_KEY,\n",
    "    consumer_secret=WC_CONSUMER_SECRET,\n",
    "    version=\"wc/v3\"\n",
    ")"
   ]
  },
  {
   "cell_type": "code",
   "execution_count": 5,
   "metadata": {},
   "outputs": [
    {
     "name": "stderr",
     "output_type": "stream",
     "text": [
      "2025-02-02 14:44:41.822 WARNING streamlit.runtime.scriptrunner_utils.script_run_context: Thread 'MainThread': missing ScriptRunContext! This warning can be ignored when running in bare mode.\n",
      "2025-02-02 14:44:42.164 \n",
      "  \u001b[33m\u001b[1mWarning:\u001b[0m to view this Streamlit app on a browser, run it with the following\n",
      "  command:\n",
      "\n",
      "    streamlit run c:\\Users\\yeasi\\Projects\\Streamlit\\.conda\\Lib\\site-packages\\ipykernel_launcher.py [ARGUMENTS]\n",
      "2025-02-02 14:44:42.165 Thread 'MainThread': missing ScriptRunContext! This warning can be ignored when running in bare mode.\n",
      "2025-02-02 14:44:42.166 Thread 'MainThread': missing ScriptRunContext! This warning can be ignored when running in bare mode.\n",
      "2025-02-02 14:44:42.168 Thread 'MainThread': missing ScriptRunContext! This warning can be ignored when running in bare mode.\n",
      "2025-02-02 14:44:42.170 Thread 'MainThread': missing ScriptRunContext! This warning can be ignored when running in bare mode.\n",
      "2025-02-02 14:44:42.172 Thread 'MainThread': missing ScriptRunContext! This warning can be ignored when running in bare mode.\n",
      "2025-02-02 14:44:42.174 Session state does not function when running a script without `streamlit run`\n",
      "2025-02-02 14:44:42.176 Thread 'MainThread': missing ScriptRunContext! This warning can be ignored when running in bare mode.\n",
      "2025-02-02 14:44:42.178 Thread 'MainThread': missing ScriptRunContext! This warning can be ignored when running in bare mode.\n"
     ]
    }
   ],
   "source": [
    "def fetch_product_images(product_id):\n",
    "    \"\"\"Fetch product images from WooCommerce using the product ID.\"\"\"\n",
    "    response = wcapi.get(f\"products/{product_id}\")\n",
    "    if response.status_code == 200:\n",
    "        product_data = response.json()\n",
    "        images = product_data.get('images', [])\n",
    "        image_urls = [img['src'] for img in images]\n",
    "        return image_urls\n",
    "    else:\n",
    "        st.error(\"Failed to fetch product data. Please check the product ID.\")\n",
    "        return []\n",
    "\n",
    "def download_images(image_urls):\n",
    "    \"\"\"Download images from the provided URLs.\"\"\"\n",
    "    images = []\n",
    "    for url in image_urls:\n",
    "        response = requests.get(url)\n",
    "        if response.status_code == 200:\n",
    "            img = Image.open(BytesIO(response.content))\n",
    "            images.append(img)\n",
    "        else:\n",
    "            st.warning(f\"Failed to download image from {url}\")\n",
    "    return images\n",
    "\n",
    "def create_zip(images, zip_filename=\"product_images.zip\"):\n",
    "    \"\"\"Create a zip file from the downloaded images.\"\"\"\n",
    "    with zipfile.ZipFile(zip_filename, 'w') as zipf:\n",
    "        for i, img in enumerate(images):\n",
    "            img_filename = f\"image_{i+1}.png\"\n",
    "            img.save(img_filename)\n",
    "            zipf.write(img_filename)\n",
    "            os.remove(img_filename)  # Clean up the individual image file\n",
    "    return zip_filename\n",
    "\n",
    "def main():\n",
    "    st.title(\"WooCommerce Product Image Downloader\")\n",
    "\n",
    "    # Input for product ID\n",
    "    product_id = st.text_input(\"Enter Product ID:\")\n",
    "\n",
    "    if product_id:\n",
    "        # Fetch image URLs\n",
    "        image_urls = fetch_product_images(product_id)\n",
    "        \n",
    "        if image_urls:\n",
    "            st.success(f\"Found {len(image_urls)} images for product ID {product_id}.\")\n",
    "            \n",
    "            # Download images\n",
    "            images = download_images(image_urls)\n",
    "            \n",
    "            if images:\n",
    "                # Create a zip file\n",
    "                zip_filename = create_zip(images)\n",
    "                \n",
    "                # Provide download button\n",
    "                with open(zip_filename, \"rb\") as f:\n",
    "                    st.download_button(\n",
    "                        label=\"Download Images as Zip\",\n",
    "                        data=f,\n",
    "                        file_name=zip_filename,\n",
    "                        mime=\"application/zip\"\n",
    "                    )\n",
    "                \n",
    "                # Clean up the zip file\n",
    "                os.remove(zip_filename)\n",
    "            else:\n",
    "                st.warning(\"No images were downloaded.\")\n",
    "        else:\n",
    "            st.warning(\"No images found for the given product ID.\")\n"
   ]
  },
  {
   "cell_type": "code",
   "execution_count": null,
   "metadata": {},
   "outputs": [],
   "source": [
    "%streamlit run woocommerce_app.py"
   ]
  }
 ],
 "metadata": {
  "kernelspec": {
   "display_name": "Python 3",
   "language": "python",
   "name": "python3"
  },
  "language_info": {
   "codemirror_mode": {
    "name": "ipython",
    "version": 3
   },
   "file_extension": ".py",
   "mimetype": "text/x-python",
   "name": "python",
   "nbconvert_exporter": "python",
   "pygments_lexer": "ipython3",
   "version": "3.11.11"
  }
 },
 "nbformat": 4,
 "nbformat_minor": 2
}
